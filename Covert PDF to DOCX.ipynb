{
 "cells": [
  {
   "cell_type": "markdown",
   "id": "448a2040",
   "metadata": {},
   "source": [
    "### Convert PDF to DOCX"
   ]
  },
  {
   "cell_type": "code",
   "execution_count": 1,
   "id": "85d60df7",
   "metadata": {},
   "outputs": [],
   "source": [
    "from pdf2docx import Converter\n",
    "import os"
   ]
  },
  {
   "cell_type": "code",
   "execution_count": 4,
   "id": "b88b0e22",
   "metadata": {},
   "outputs": [],
   "source": [
    "input_dir = r'Dataset\\Resumes\\React JS Developer'\n",
    "output_dir = r\"Dataset\\Resumes\""
   ]
  },
  {
   "cell_type": "code",
   "execution_count": 17,
   "id": "ca6e1650",
   "metadata": {},
   "outputs": [
    {
     "name": "stderr",
     "output_type": "stream",
     "text": [
      "[INFO] Start to convert Dataset\\Resumes\\React JS Developer\\React JS Developer_Prabakaran_Musquare.pdf\n",
      "[INFO] \u001b[1;36m[1/4] Opening document...\u001b[0m\n",
      "[INFO] \u001b[1;36m[2/4] Analyzing document...\u001b[0m\n",
      "[INFO] \u001b[1;36m[3/4] Parsing pages...\u001b[0m\n",
      "[INFO] (1/2) Page 1\n",
      "[INFO] (2/2) Page 2\n",
      "[INFO] \u001b[1;36m[4/4] Creating pages...\u001b[0m\n",
      "[INFO] (1/2) Page 1\n",
      "[INFO] (2/2) Page 2\n",
      "[INFO] Terminated in 0.50s.\n"
     ]
    }
   ],
   "source": [
    "for file in os.listdir(input_dir):\n",
    "    if file.endswith('.pdf'):\n",
    "        final = os.path.join(input_dir, file)\n",
    "        cv = Converter(final)\n",
    "        basename = os.path.splitext(file)[0]\n",
    "        cv.convert(output_dir + '/' + basename + '.docx', start = 0, end = None)\n",
    "        cv.close()"
   ]
  },
  {
   "cell_type": "code",
   "execution_count": null,
   "id": "0661b0e3",
   "metadata": {},
   "outputs": [],
   "source": []
  }
 ],
 "metadata": {
  "kernelspec": {
   "display_name": "Python 3 (ipykernel)",
   "language": "python",
   "name": "python3"
  },
  "language_info": {
   "codemirror_mode": {
    "name": "ipython",
    "version": 3
   },
   "file_extension": ".py",
   "mimetype": "text/x-python",
   "name": "python",
   "nbconvert_exporter": "python",
   "pygments_lexer": "ipython3",
   "version": "3.9.13"
  }
 },
 "nbformat": 4,
 "nbformat_minor": 5
}
